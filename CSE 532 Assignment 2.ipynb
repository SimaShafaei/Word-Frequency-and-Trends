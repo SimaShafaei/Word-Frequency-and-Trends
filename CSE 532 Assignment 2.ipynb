{
 "cells": [
  {
   "cell_type": "markdown",
   "metadata": {},
   "source": [
    "# CSE 532 Assignment \\#2 (Due 3/1/23)\n",
    "An important aspect to text mining and natural language processing is measuring word frequency and trends in word usage.  This assignment deals with a simple exercise in loading a text file into Python and computing word frequency statistics and trends.  It requires usage of text files, strings and dataframes, so it is heavily encouraged that you take a look at relevant sessions (13-17) if you have not already done so.\n",
    "\n",
    "(a) Locate a movie script, play script, poem, or book of your choice in .txt format. You are free to choose nearly any novel, movie script, or play that you like, with the qualification that your chosen document **must have a minimum of 5 chapters, scenes, and/or acts that distinguish one portion of the document's narrative from another**.  For example, the novel \"Great Expectations\" has 59 chapters, the script for \"Jaws\" has about 27 scenes, and all or almost all Shakespearean plays have exactly five acts. It is important that for part (e) of the document that these segments exist for your document. [Project Gutenburg](https://www.gutenberg.org/) is a great resource for this if you're not sure where to start.  **Make sure you include your text file in your submission.  If your document has a particularly large number of segments, it is okay to trim the document to something more manageable (ex: working with only chapters 1-20 of \"Great Expectations.\")**\n",
    "\n",
    "\n",
    "\n",
    "\n",
    "\n",
    "\n",
    "\n",
    "\n",
    "**You can use .py files, .ipynb files, or a combination of the two in your solution.  Zip these file(s) along with a simple README telling us what to run to generate the list, data-frames, and plots into a zip file with the name <LN_FN_2.zip>, where LN is your last-name and FN is your first-name, and submit this file to Blackboard.**"
   ]
  },
  {
   "cell_type": "markdown",
   "metadata": {},
   "source": [
    "# Read me\n",
    "I Choose Hamlet (one of Shekspearean Plays) as the script for next analysis. each act is saved in a seperate text file including: \n",
    "- ACT I in 'Hamlet ACT I.txt'\n",
    "- ACT II in  'Hamlet ACT II.txt'\n",
    "- ACT III in  'Hamlet ACT III.txt'\n",
    "- ACT IV in  'Hamlet ACT IV.txt'\n",
    "- ACT V in  'Hamlet ACT V.txt'\n",
    "\n",
    "## Special Characters:\n",
    "I decided to romeve special characters and then analyze the text"
   ]
  },
  {
   "cell_type": "markdown",
   "metadata": {},
   "source": [
    "(b) Load the words of this structure in sequential order of appearance into a one-dimensional Python list (i.e. the first word should be the first element in the list, while the last word should be the last element) that is **case insensitive**.  It's up to you how to deal with special chacters -- you can remove them manually, ignore them during the loading process, or even count them as words, for example.  **Make sure you have this list clearly assigned to a variable, so we can evaluate it during grading.**"
   ]
  },
  {
   "cell_type": "code",
   "execution_count": 256,
   "metadata": {},
   "outputs": [],
   "source": [
    "# narrative_word_list is a one dimentional python list that contains the words of Hamlet play in sequential order of appearance   \n",
    "\n",
    "def removeSpecialChars(x):\n",
    "    replacements = [('!', ''), ('?', ''),(',', ''),('.', ''),('&', ''),('%', ''),('@', ''),('$', ''),('#', ''),('^', ''),('*', ''),('()', ''),(')', ''),('-', ''),('+', ''),('=', ''),('_', ''),('/', ''),('<', ''),('>', ''),(':', ''),(';', ''),('\\'', ''),('\\\"', ''),('\\\\', ''),('~', ''),('`', ''),('{', ''),('}', ''),('[', ''),(']', ''),('|', '')]\n",
    "\n",
    "    for char, replacement in replacements:\n",
    "        if char in x:\n",
    "            x = x.replace(char, replacement)\n",
    "    return(x)\n",
    "\n",
    "    \n",
    "segment_num=5\n",
    "segment_names=['ACT I', 'ACT II','ACT III','ACT IV','ACT V']\n",
    "segments=[]\n",
    "narrative_word_list=[]\n",
    "narrative_segment=[]\n",
    "\n",
    "for s in segment_names:\n",
    "    file_name='./Hamlet/Hamlet '+s+'.txt'\n",
    "    f = open(file_name, 'r')\n",
    "    text_with_spechials=[word.lower() for line in f for word in line.split()]\n",
    "    clean_text=[removeSpecialChars(word) for word in text_with_spechials]\n",
    "    segments.append(clean_text)\n",
    "    narrative_word_list=narrative_word_list+clean_text\n",
    "    narrative_segment.append(clean_text)"
   ]
  },
  {
   "cell_type": "markdown",
   "metadata": {},
   "source": [
    "(c) Use your list to create **and print** a two-column pandas data-frame with the following properties: <br>\n",
    "i. The first column for each index should represent the word in question at that index <br>\n",
    "ii. The second column should represent the number of times that particular word appears in the text. <br>\n",
    "iii. The rows of the data-frame should be ordered according to the **first** occurrence of each word. <br>\n",
    "iv. It's up to you whether or not your data-frame will include an index per row.  <br>**Make sure you have this data-frame clearly assigned to a variable, so we can evaluate it during grading.**\n",
    "\n",
    "Ex: if the first word in your text is \"the\" which occurs 500 times and the second is \"balcony\" which only appears twice, your data-frame should _begin_ like the following:\n",
    "\n",
    "| | Word | Count |\n",
    "| --- | --- | --- |\n",
    "| 1 | \"the\" | 500 |\n",
    "| 2 | \"balcony\" | 2 |\n",
    "| ... | ... | ... |\n",
    "Again, the indices are optional.\n"
   ]
  },
  {
   "cell_type": "code",
   "execution_count": 257,
   "metadata": {},
   "outputs": [
    {
     "data": {
      "text/html": [
       "<div>\n",
       "<style scoped>\n",
       "    .dataframe tbody tr th:only-of-type {\n",
       "        vertical-align: middle;\n",
       "    }\n",
       "\n",
       "    .dataframe tbody tr th {\n",
       "        vertical-align: top;\n",
       "    }\n",
       "\n",
       "    .dataframe thead th {\n",
       "        text-align: right;\n",
       "    }\n",
       "</style>\n",
       "<table border=\"1\" class=\"dataframe\">\n",
       "  <thead>\n",
       "    <tr style=\"text-align: right;\">\n",
       "      <th></th>\n",
       "      <th>Word</th>\n",
       "      <th>Count</th>\n",
       "    </tr>\n",
       "  </thead>\n",
       "  <tbody>\n",
       "    <tr>\n",
       "      <th>0</th>\n",
       "      <td>scene</td>\n",
       "      <td>23</td>\n",
       "    </tr>\n",
       "    <tr>\n",
       "      <th>1</th>\n",
       "      <td>i</td>\n",
       "      <td>566</td>\n",
       "    </tr>\n",
       "    <tr>\n",
       "      <th>2</th>\n",
       "      <td>elsinore</td>\n",
       "      <td>6</td>\n",
       "    </tr>\n",
       "    <tr>\n",
       "      <th>3</th>\n",
       "      <td>a</td>\n",
       "      <td>531</td>\n",
       "    </tr>\n",
       "    <tr>\n",
       "      <th>4</th>\n",
       "      <td>platform</td>\n",
       "      <td>5</td>\n",
       "    </tr>\n",
       "    <tr>\n",
       "      <th>5</th>\n",
       "      <td>before</td>\n",
       "      <td>21</td>\n",
       "    </tr>\n",
       "  </tbody>\n",
       "</table>\n",
       "</div>"
      ],
      "text/plain": [
       "       Word  Count\n",
       "0     scene     23\n",
       "1         i    566\n",
       "2  elsinore      6\n",
       "3         a    531\n",
       "4  platform      5\n",
       "5    before     21"
      ]
     },
     "execution_count": 257,
     "metadata": {},
     "output_type": "execute_result"
    }
   ],
   "source": [
    "import pandas as pd\n",
    "\n",
    "def count_unique_words(word_list):\n",
    "    unique_words=[]\n",
    "    count=[]\n",
    "    for word in word_list:\n",
    "        if word in unique_words:\n",
    "            i=unique_words.index(word)\n",
    "            count[i]+=1\n",
    "        else:\n",
    "            unique_words.append(word)\n",
    "            count.append(1)\n",
    "           \n",
    "    words_counts_dict={'Word':unique_words,'Count':count}\n",
    "    words_counts = pd.DataFrame(words_counts_dict) #dataframe with heterogenous data\n",
    "    return words_counts\n",
    "\n",
    "wc_df=count_unique_words(narrative_word_list)\n",
    "wc_df.head(6)\n"
   ]
  },
  {
   "cell_type": "markdown",
   "metadata": {},
   "source": [
    "(d) **Stop-words** are commonly used words in a given language that often fail to communicate useful summative information about its content.  The attached file \"stop_words.txt\" has a simple list of common stop words assigned to a variable.  For this part of the assigment, you are to create a modified copy of the data-frame from (c) with the following modifications: _i. all stop words have been removed from the data-frame_ and _ii. the data frame rows have been sorted in decreasing order of frequency counts_.  **Again, make sure you have this data-frame clearly assigned to a variable, so we can evaluate it during grading.** "
   ]
  },
  {
   "cell_type": "code",
   "execution_count": 258,
   "metadata": {},
   "outputs": [
    {
     "data": {
      "text/html": [
       "<div>\n",
       "<style scoped>\n",
       "    .dataframe tbody tr th:only-of-type {\n",
       "        vertical-align: middle;\n",
       "    }\n",
       "\n",
       "    .dataframe tbody tr th {\n",
       "        vertical-align: top;\n",
       "    }\n",
       "\n",
       "    .dataframe thead th {\n",
       "        text-align: right;\n",
       "    }\n",
       "</style>\n",
       "<table border=\"1\" class=\"dataframe\">\n",
       "  <thead>\n",
       "    <tr style=\"text-align: right;\">\n",
       "      <th></th>\n",
       "      <th>Count</th>\n",
       "    </tr>\n",
       "    <tr>\n",
       "      <th>Word</th>\n",
       "      <th></th>\n",
       "    </tr>\n",
       "  </thead>\n",
       "  <tbody>\n",
       "    <tr>\n",
       "      <th>hamlet</th>\n",
       "      <td>461</td>\n",
       "    </tr>\n",
       "    <tr>\n",
       "      <th>lord</th>\n",
       "      <td>310</td>\n",
       "    </tr>\n",
       "    <tr>\n",
       "      <th>king</th>\n",
       "      <td>194</td>\n",
       "    </tr>\n",
       "    <tr>\n",
       "      <th>will</th>\n",
       "      <td>169</td>\n",
       "    </tr>\n",
       "    <tr>\n",
       "      <th>horatio</th>\n",
       "      <td>157</td>\n",
       "    </tr>\n",
       "    <tr>\n",
       "      <th>claudius</th>\n",
       "      <td>120</td>\n",
       "    </tr>\n",
       "    <tr>\n",
       "      <th>polonius</th>\n",
       "      <td>119</td>\n",
       "    </tr>\n",
       "    <tr>\n",
       "      <th>queen</th>\n",
       "      <td>118</td>\n",
       "    </tr>\n",
       "    <tr>\n",
       "      <th>good</th>\n",
       "      <td>109</td>\n",
       "    </tr>\n",
       "    <tr>\n",
       "      <th>laertes</th>\n",
       "      <td>105</td>\n",
       "    </tr>\n",
       "  </tbody>\n",
       "</table>\n",
       "</div>"
      ],
      "text/plain": [
       "          Count\n",
       "Word           \n",
       "hamlet      461\n",
       "lord        310\n",
       "king        194\n",
       "will        169\n",
       "horatio     157\n",
       "claudius    120\n",
       "polonius    119\n",
       "queen       118\n",
       "good        109\n",
       "laertes     105"
      ]
     },
     "execution_count": 258,
     "metadata": {},
     "output_type": "execute_result"
    }
   ],
   "source": [
    "f = open('stop_words.txt', 'r')\n",
    "x=[word.lower() for word in f]\n",
    "x[0] = x[0].replace('stop_words = [', '')\n",
    "x[0] = x[0].replace(']', '')\n",
    "x[0] = x[0].replace('\\\"', '')\n",
    "stop_words=[w.strip() for w in x[0].split(',')]\n",
    "\n",
    "def getSortedMainWords(stop_word_list,word_df):\n",
    "    data_word_index = word_df.set_index(\"Word\")   \n",
    "    main_word_count = data_word_index.drop(stop_word_list, errors='ignore')\n",
    "    main_word_count.sort_values(by='Count', axis=0, ascending=False,inplace=True)\n",
    "    return main_word_count\n",
    "\n",
    "smw_df=getSortedMainWords(stop_words,wc_df)\n",
    "smw_df.head(10)"
   ]
  },
  {
   "cell_type": "markdown",
   "metadata": {},
   "source": [
    "(e) While total word counts can provide a useful measure of the content of a document, they cannot reveal much about its underlying trends.  In the context of document analysis, the term _trend_ implies a direction (in terms of theme, mood, etc.) in which the content changes throughout the narrative.  For example, some works of fiction begin with a comedic tone, and take on a more serious tone in later stages, or vice versa.  While tone shifts are a bit beyond the scope of this assignment, it *is* feasible to monitor which **words** become more or less common within the document over time (ex: a character killed in the first act of a screenplay will *potentially* appear less frequently in subsequent acts).  For the last part of your assignment, you are to do the following: <br>\n",
    "i. Use your dataframe from part d to pinpoint the six most commonly occurring words in your text (if there are stop-words that were not successfully excluded programmatically in part d due to punctuation, etc., you should manually exclude them here). <br>\n",
    "ii. For each of the six words, compute the ratio of its appearances per narrative segment (chapter, act, etc.) compared to the sum across the work overall.  These quantities can be either in percentile or decimal. <br>\n",
    "iii. You are then to create a 2 x 3 or 3 x 2 series of subplots and, for each of the six words, provide a bar graph that depicts the ratios (not raw counts) across segments.\n",
    "\n",
    "As an example, suppose a hypothetical work has five chapters, and one of the six most common words is \"Barcelona\"; further, suppose this word appears 10, 20, 15, 5, and 0 times in chapters 1, 2, 3, 4, and 5 respectively.  The bar graph for this plot should look something like the below: <br>\n",
    "![Barcelona Trends Bar Graph](barcelonatrends.png \"\")"
   ]
  },
  {
   "cell_type": "code",
   "execution_count": 259,
   "metadata": {},
   "outputs": [
    {
     "name": "stdout",
     "output_type": "stream",
     "text": [
      "Word       hamlet      lord      king      will   horatio  claudius\n",
      "ACT I    1.417526  0.859107  0.315006  0.357961  1.202749  0.114548\n",
      "ACT II   1.118718  2.020371  0.417432  0.417432  0.000000  0.250459\n",
      "ACT III  1.612269  0.891336  0.537423  0.537423  0.157295  0.275265\n",
      "ACT IV   0.877353  0.456955  1.352586  0.731128  0.219338  1.023579\n",
      "ACT V    2.096011  0.608519  0.540906  0.642326  0.828262  0.338066\n"
     ]
    },
    {
     "data": {
      "image/png": "[encoded data removed]",
      "text/plain": [
       "<Figure size 1440x720 with 6 Axes>"
      ]
     },
     "metadata": {
      "needs_background": "light"
     },
     "output_type": "display_data"
    }
   ],
   "source": [
    "import matplotlib.pyplot as plt\n",
    "\n",
    "def display_appearance_ratio(narrative_segment,mainwords,segment_names):\n",
    "    appearance_ratio=pd.DataFrame(columns=mainwords)\n",
    "    for i,act in enumerate(narrative_segment):\n",
    "        theme_word_ratio=[]\n",
    "        for theme_word in mainwords:\n",
    "            theme_word_ratio.append(act.count(theme_word)/len(act)*100) \n",
    "        appearance_ratio.loc[len(appearance_ratio)] = theme_word_ratio\n",
    "    \n",
    "    appearance_ratio.index=segment_names\n",
    "    print(appearance_ratio)\n",
    "\n",
    "\n",
    "    fig = plt.figure()\n",
    "    fig.set_figheight(10)\n",
    "    fig.set_figwidth(20)\n",
    "    for i,w in enumerate(mainwords):  \n",
    "        data = list(appearance_ratio.loc[:,w])\n",
    "        plt.subplot(2, 3, i+1)\n",
    "        r=i//3\n",
    "        c=i%3    \n",
    "        plt.bar(segment_names, data,color=['tab:red', 'tab:blue', 'tab:green', 'tab:orange', 'tab:cyan'])\n",
    "        plt.ylabel('frequency%')\n",
    "        plt.title(w,weight='bold') \n",
    "    plt.show\n",
    "\n",
    "\n",
    "mainword=smw_df.index[0:6] \n",
    "display_appearance_ratio(narrative_segment,mainword,segment_names)"
   ]
  },
  {
   "cell_type": "code",
   "execution_count": 260,
   "metadata": {},
   "outputs": [
    {
     "data": {
      "text/html": [
       "<div>\n",
       "<style scoped>\n",
       "    .dataframe tbody tr th:only-of-type {\n",
       "        vertical-align: middle;\n",
       "    }\n",
       "\n",
       "    .dataframe tbody tr th {\n",
       "        vertical-align: top;\n",
       "    }\n",
       "\n",
       "    .dataframe thead th {\n",
       "        text-align: right;\n",
       "    }\n",
       "</style>\n",
       "<table border=\"1\" class=\"dataframe\">\n",
       "  <thead>\n",
       "    <tr style=\"text-align: right;\">\n",
       "      <th></th>\n",
       "      <th>Count</th>\n",
       "    </tr>\n",
       "    <tr>\n",
       "      <th>Word</th>\n",
       "      <th></th>\n",
       "    </tr>\n",
       "  </thead>\n",
       "  <tbody>\n",
       "    <tr>\n",
       "      <th>lord</th>\n",
       "      <td>310</td>\n",
       "    </tr>\n",
       "    <tr>\n",
       "      <th>king</th>\n",
       "      <td>194</td>\n",
       "    </tr>\n",
       "    <tr>\n",
       "      <th>horatio</th>\n",
       "      <td>157</td>\n",
       "    </tr>\n",
       "    <tr>\n",
       "      <th>claudius</th>\n",
       "      <td>120</td>\n",
       "    </tr>\n",
       "    <tr>\n",
       "      <th>polonius</th>\n",
       "      <td>119</td>\n",
       "    </tr>\n",
       "    <tr>\n",
       "      <th>queen</th>\n",
       "      <td>118</td>\n",
       "    </tr>\n",
       "    <tr>\n",
       "      <th>good</th>\n",
       "      <td>109</td>\n",
       "    </tr>\n",
       "    <tr>\n",
       "      <th>laertes</th>\n",
       "      <td>105</td>\n",
       "    </tr>\n",
       "    <tr>\n",
       "      <th>gertrude</th>\n",
       "      <td>95</td>\n",
       "    </tr>\n",
       "    <tr>\n",
       "      <th>thy</th>\n",
       "      <td>87</td>\n",
       "    </tr>\n",
       "  </tbody>\n",
       "</table>\n",
       "</div>"
      ],
      "text/plain": [
       "          Count\n",
       "Word           \n",
       "lord        310\n",
       "king        194\n",
       "horatio     157\n",
       "claudius    120\n",
       "polonius    119\n",
       "queen       118\n",
       "good        109\n",
       "laertes     105\n",
       "gertrude     95\n",
       "thy          87"
      ]
     },
     "execution_count": 260,
     "metadata": {},
     "output_type": "execute_result"
    }
   ],
   "source": [
    "#because 'will' is not determining the theme of acts and because Hamlet is a word that appears almost uniformly in all acts\n",
    "#  I romoved these two words and evaluate the trend of acts without them \n",
    "\n",
    "stop_words=stop_words+['will','hamlet']\n",
    "smw2_df=getSortedMainWords(stop_words,wc_df)\n",
    "smw2_df.head(10)"
   ]
  },
  {
   "cell_type": "code",
   "execution_count": 261,
   "metadata": {},
   "outputs": [
    {
     "name": "stdout",
     "output_type": "stream",
     "text": [
      "Word         lord      king   horatio  claudius  polonius     queen\n",
      "ACT I    0.859107  0.315006  1.202749  0.114548  0.186140  0.100229\n",
      "ACT II   2.020371  0.417432  0.000000  0.250459  1.135415  0.283854\n",
      "ACT III  0.891336  0.537423  0.157295  0.275265  0.445668  0.681610\n",
      "ACT IV   0.456955  1.352586  0.219338  1.023579  0.073113  0.420398\n",
      "ACT V    0.608519  0.540906  0.828262  0.338066  0.000000  0.321163\n"
     ]
    },
    {
     "data": {
      "image/png": "[encoded data removed]",
      "text/plain": [
       "<Figure size 1440x720 with 6 Axes>"
      ]
     },
     "metadata": {
      "needs_background": "light"
     },
     "output_type": "display_data"
    }
   ],
   "source": [
    "mainword=smw2_df.index[0:6] \n",
    "display_appearance_ratio(narrative_segment,mainword,segment_names)"
   ]
  },
  {
   "cell_type": "code",
   "execution_count": null,
   "metadata": {},
   "outputs": [],
   "source": []
  }
 ],
 "metadata": {
  "kernelspec": {
   "display_name": "Python 3",
   "language": "python",
   "name": "python3"
  },
  "language_info": {
   "codemirror_mode": {
    "name": "ipython",
    "version": 3
   },
   "file_extension": ".py",
   "mimetype": "text/x-python",
   "name": "python",
   "nbconvert_exporter": "python",
   "pygments_lexer": "ipython3",
   "version": "3.7.6"
  }
 },
 "nbformat": 4,
 "nbformat_minor": 4
}
